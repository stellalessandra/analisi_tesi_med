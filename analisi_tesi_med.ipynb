{
 "cells": [
  {
   "cell_type": "markdown",
   "metadata": {},
   "source": [
    "# Analisi dati tesi med"
   ]
  },
  {
   "cell_type": "code",
   "execution_count": 1,
   "metadata": {
    "ExecuteTime": {
     "end_time": "2021-02-15T09:13:51.594455Z",
     "start_time": "2021-02-15T09:13:50.794672Z"
    }
   },
   "outputs": [],
   "source": [
    "import numpy as np\n",
    "import pandas as pd\n",
    "import seaborn as sns\n",
    "import matplotlib.pyplot as plt"
   ]
  },
  {
   "cell_type": "code",
   "execution_count": 2,
   "metadata": {
    "ExecuteTime": {
     "end_time": "2021-02-15T09:13:51.627573Z",
     "start_time": "2021-02-15T09:13:51.596409Z"
    }
   },
   "outputs": [],
   "source": [
    "normoacusici = pd.read_excel('normoacusici.xlsx')\n",
    "ipoacusici = pd.read_excel('ipoacusici.xlsx')"
   ]
  },
  {
   "cell_type": "code",
   "execution_count": 3,
   "metadata": {
    "ExecuteTime": {
     "end_time": "2021-02-15T09:13:51.633813Z",
     "start_time": "2021-02-15T09:13:51.629277Z"
    }
   },
   "outputs": [
    {
     "data": {
      "text/plain": [
       "Index(['SOGG', 'GENERE', 'ETA', 'PTA media', 'SRTq', 'SRTn'], dtype='object')"
      ]
     },
     "execution_count": 3,
     "metadata": {},
     "output_type": "execute_result"
    }
   ],
   "source": [
    "normoacusici.keys()"
   ]
  },
  {
   "cell_type": "code",
   "execution_count": 4,
   "metadata": {
    "ExecuteTime": {
     "end_time": "2021-02-15T09:13:51.642172Z",
     "start_time": "2021-02-15T09:13:51.637452Z"
    }
   },
   "outputs": [
    {
     "data": {
      "text/plain": [
       "Index(['SOGG', 'GENERE', 'ETA', 'PTA patologico', 'PTA sano', 'SRTq', 'SRTn'], dtype='object')"
      ]
     },
     "execution_count": 4,
     "metadata": {},
     "output_type": "execute_result"
    }
   ],
   "source": [
    "ipoacusici.keys()\n"
   ]
  },
  {
   "cell_type": "markdown",
   "metadata": {},
   "source": [
    "# Pazienti normoacusici"
   ]
  },
  {
   "cell_type": "code",
   "execution_count": 5,
   "metadata": {
    "ExecuteTime": {
     "end_time": "2021-02-15T09:13:51.649335Z",
     "start_time": "2021-02-15T09:13:51.643899Z"
    }
   },
   "outputs": [],
   "source": [
    "# fix entries for PTA media misread from excel\n",
    "normoacusici['PTA media'] = normoacusici['PTA media'].replace(11875,11.875)\n",
    "normoacusici['PTA media'] = normoacusici['PTA media'].replace(10625,10.625)"
   ]
  },
  {
   "cell_type": "code",
   "execution_count": 32,
   "metadata": {
    "ExecuteTime": {
     "end_time": "2021-02-15T09:14:21.357085Z",
     "start_time": "2021-02-15T09:14:21.328724Z"
    }
   },
   "outputs": [
    {
     "data": {
      "text/html": [
       "<div>\n",
       "<style scoped>\n",
       "    .dataframe tbody tr th:only-of-type {\n",
       "        vertical-align: middle;\n",
       "    }\n",
       "\n",
       "    .dataframe tbody tr th {\n",
       "        vertical-align: top;\n",
       "    }\n",
       "\n",
       "    .dataframe thead th {\n",
       "        text-align: right;\n",
       "    }\n",
       "</style>\n",
       "<table border=\"1\" class=\"dataframe\">\n",
       "  <thead>\n",
       "    <tr style=\"text-align: right;\">\n",
       "      <th></th>\n",
       "      <th>SOGG</th>\n",
       "      <th>GENERE</th>\n",
       "      <th>ETA</th>\n",
       "      <th>PTA media</th>\n",
       "      <th>SRTq</th>\n",
       "      <th>SRTn</th>\n",
       "    </tr>\n",
       "  </thead>\n",
       "  <tbody>\n",
       "    <tr>\n",
       "      <th>0</th>\n",
       "      <td>1</td>\n",
       "      <td>M</td>\n",
       "      <td>6</td>\n",
       "      <td>11.250</td>\n",
       "      <td>26.7</td>\n",
       "      <td>-4.0</td>\n",
       "    </tr>\n",
       "    <tr>\n",
       "      <th>1</th>\n",
       "      <td>2</td>\n",
       "      <td>M</td>\n",
       "      <td>6</td>\n",
       "      <td>10.000</td>\n",
       "      <td>35.0</td>\n",
       "      <td>-4.8</td>\n",
       "    </tr>\n",
       "    <tr>\n",
       "      <th>2</th>\n",
       "      <td>3</td>\n",
       "      <td>F</td>\n",
       "      <td>7</td>\n",
       "      <td>11.250</td>\n",
       "      <td>28.0</td>\n",
       "      <td>-6.0</td>\n",
       "    </tr>\n",
       "    <tr>\n",
       "      <th>3</th>\n",
       "      <td>4</td>\n",
       "      <td>F</td>\n",
       "      <td>6</td>\n",
       "      <td>15.000</td>\n",
       "      <td>28.3</td>\n",
       "      <td>-4.3</td>\n",
       "    </tr>\n",
       "    <tr>\n",
       "      <th>4</th>\n",
       "      <td>5</td>\n",
       "      <td>F</td>\n",
       "      <td>6</td>\n",
       "      <td>11.000</td>\n",
       "      <td>30.5</td>\n",
       "      <td>-4.2</td>\n",
       "    </tr>\n",
       "    <tr>\n",
       "      <th>5</th>\n",
       "      <td>6</td>\n",
       "      <td>M</td>\n",
       "      <td>7</td>\n",
       "      <td>11.250</td>\n",
       "      <td>28.7</td>\n",
       "      <td>-6.4</td>\n",
       "    </tr>\n",
       "    <tr>\n",
       "      <th>6</th>\n",
       "      <td>7</td>\n",
       "      <td>F</td>\n",
       "      <td>7</td>\n",
       "      <td>10.000</td>\n",
       "      <td>24.1</td>\n",
       "      <td>-6.5</td>\n",
       "    </tr>\n",
       "    <tr>\n",
       "      <th>7</th>\n",
       "      <td>8</td>\n",
       "      <td>M</td>\n",
       "      <td>8</td>\n",
       "      <td>10.000</td>\n",
       "      <td>22.5</td>\n",
       "      <td>-5.9</td>\n",
       "    </tr>\n",
       "    <tr>\n",
       "      <th>8</th>\n",
       "      <td>9</td>\n",
       "      <td>F</td>\n",
       "      <td>8</td>\n",
       "      <td>10.000</td>\n",
       "      <td>26.0</td>\n",
       "      <td>-3.7</td>\n",
       "    </tr>\n",
       "    <tr>\n",
       "      <th>9</th>\n",
       "      <td>10</td>\n",
       "      <td>F</td>\n",
       "      <td>8</td>\n",
       "      <td>11.250</td>\n",
       "      <td>30.1</td>\n",
       "      <td>-7.5</td>\n",
       "    </tr>\n",
       "    <tr>\n",
       "      <th>10</th>\n",
       "      <td>11</td>\n",
       "      <td>F</td>\n",
       "      <td>8</td>\n",
       "      <td>10.000</td>\n",
       "      <td>23.7</td>\n",
       "      <td>-7.8</td>\n",
       "    </tr>\n",
       "    <tr>\n",
       "      <th>11</th>\n",
       "      <td>12</td>\n",
       "      <td>F</td>\n",
       "      <td>8</td>\n",
       "      <td>15.000</td>\n",
       "      <td>29.0</td>\n",
       "      <td>-2.9</td>\n",
       "    </tr>\n",
       "    <tr>\n",
       "      <th>12</th>\n",
       "      <td>13</td>\n",
       "      <td>F</td>\n",
       "      <td>9</td>\n",
       "      <td>11.875</td>\n",
       "      <td>25.3</td>\n",
       "      <td>-8.5</td>\n",
       "    </tr>\n",
       "    <tr>\n",
       "      <th>13</th>\n",
       "      <td>14</td>\n",
       "      <td>M</td>\n",
       "      <td>9</td>\n",
       "      <td>10.000</td>\n",
       "      <td>28.6</td>\n",
       "      <td>-4.4</td>\n",
       "    </tr>\n",
       "    <tr>\n",
       "      <th>14</th>\n",
       "      <td>15</td>\n",
       "      <td>F</td>\n",
       "      <td>9</td>\n",
       "      <td>15.000</td>\n",
       "      <td>36.5</td>\n",
       "      <td>-4.1</td>\n",
       "    </tr>\n",
       "    <tr>\n",
       "      <th>15</th>\n",
       "      <td>16</td>\n",
       "      <td>M</td>\n",
       "      <td>9</td>\n",
       "      <td>10.625</td>\n",
       "      <td>24.9</td>\n",
       "      <td>-3.8</td>\n",
       "    </tr>\n",
       "    <tr>\n",
       "      <th>16</th>\n",
       "      <td>17</td>\n",
       "      <td>M</td>\n",
       "      <td>9</td>\n",
       "      <td>11.250</td>\n",
       "      <td>25.5</td>\n",
       "      <td>-4.3</td>\n",
       "    </tr>\n",
       "    <tr>\n",
       "      <th>17</th>\n",
       "      <td>18</td>\n",
       "      <td>M</td>\n",
       "      <td>10</td>\n",
       "      <td>10.000</td>\n",
       "      <td>21.3</td>\n",
       "      <td>-7.7</td>\n",
       "    </tr>\n",
       "    <tr>\n",
       "      <th>18</th>\n",
       "      <td>19</td>\n",
       "      <td>M</td>\n",
       "      <td>10</td>\n",
       "      <td>10.000</td>\n",
       "      <td>25.6</td>\n",
       "      <td>-7.1</td>\n",
       "    </tr>\n",
       "    <tr>\n",
       "      <th>19</th>\n",
       "      <td>20</td>\n",
       "      <td>F</td>\n",
       "      <td>10</td>\n",
       "      <td>15.000</td>\n",
       "      <td>23.5</td>\n",
       "      <td>-6.3</td>\n",
       "    </tr>\n",
       "    <tr>\n",
       "      <th>20</th>\n",
       "      <td>21</td>\n",
       "      <td>F</td>\n",
       "      <td>11</td>\n",
       "      <td>10.000</td>\n",
       "      <td>23.0</td>\n",
       "      <td>-7.3</td>\n",
       "    </tr>\n",
       "    <tr>\n",
       "      <th>21</th>\n",
       "      <td>22</td>\n",
       "      <td>F</td>\n",
       "      <td>11</td>\n",
       "      <td>11.250</td>\n",
       "      <td>28.9</td>\n",
       "      <td>-5.6</td>\n",
       "    </tr>\n",
       "    <tr>\n",
       "      <th>22</th>\n",
       "      <td>23</td>\n",
       "      <td>M</td>\n",
       "      <td>11</td>\n",
       "      <td>11.250</td>\n",
       "      <td>24.4</td>\n",
       "      <td>-3.9</td>\n",
       "    </tr>\n",
       "    <tr>\n",
       "      <th>23</th>\n",
       "      <td>24</td>\n",
       "      <td>F</td>\n",
       "      <td>11</td>\n",
       "      <td>10.000</td>\n",
       "      <td>21.8</td>\n",
       "      <td>-7.3</td>\n",
       "    </tr>\n",
       "    <tr>\n",
       "      <th>24</th>\n",
       "      <td>25</td>\n",
       "      <td>F</td>\n",
       "      <td>12</td>\n",
       "      <td>10.000</td>\n",
       "      <td>29.2</td>\n",
       "      <td>-5.9</td>\n",
       "    </tr>\n",
       "    <tr>\n",
       "      <th>25</th>\n",
       "      <td>26</td>\n",
       "      <td>F</td>\n",
       "      <td>13</td>\n",
       "      <td>10.000</td>\n",
       "      <td>22.2</td>\n",
       "      <td>-7.8</td>\n",
       "    </tr>\n",
       "    <tr>\n",
       "      <th>26</th>\n",
       "      <td>27</td>\n",
       "      <td>M</td>\n",
       "      <td>13</td>\n",
       "      <td>10.625</td>\n",
       "      <td>35.0</td>\n",
       "      <td>-6.1</td>\n",
       "    </tr>\n",
       "  </tbody>\n",
       "</table>\n",
       "</div>"
      ],
      "text/plain": [
       "    SOGG GENERE  ETA  PTA media  SRTq  SRTn\n",
       "0      1      M    6     11.250  26.7  -4.0\n",
       "1      2      M    6     10.000  35.0  -4.8\n",
       "2      3      F    7     11.250  28.0  -6.0\n",
       "3      4      F    6     15.000  28.3  -4.3\n",
       "4      5      F    6     11.000  30.5  -4.2\n",
       "5      6      M    7     11.250  28.7  -6.4\n",
       "6      7      F    7     10.000  24.1  -6.5\n",
       "7      8      M    8     10.000  22.5  -5.9\n",
       "8      9      F    8     10.000  26.0  -3.7\n",
       "9     10      F    8     11.250  30.1  -7.5\n",
       "10    11      F    8     10.000  23.7  -7.8\n",
       "11    12      F    8     15.000  29.0  -2.9\n",
       "12    13      F    9     11.875  25.3  -8.5\n",
       "13    14      M    9     10.000  28.6  -4.4\n",
       "14    15      F    9     15.000  36.5  -4.1\n",
       "15    16      M    9     10.625  24.9  -3.8\n",
       "16    17      M    9     11.250  25.5  -4.3\n",
       "17    18      M   10     10.000  21.3  -7.7\n",
       "18    19      M   10     10.000  25.6  -7.1\n",
       "19    20      F   10     15.000  23.5  -6.3\n",
       "20    21      F   11     10.000  23.0  -7.3\n",
       "21    22      F   11     11.250  28.9  -5.6\n",
       "22    23      M   11     11.250  24.4  -3.9\n",
       "23    24      F   11     10.000  21.8  -7.3\n",
       "24    25      F   12     10.000  29.2  -5.9\n",
       "25    26      F   13     10.000  22.2  -7.8\n",
       "26    27      M   13     10.625  35.0  -6.1"
      ]
     },
     "execution_count": 32,
     "metadata": {},
     "output_type": "execute_result"
    }
   ],
   "source": [
    "# TODO: fix\n",
    "normoacusici"
   ]
  },
  {
   "cell_type": "markdown",
   "metadata": {
    "ExecuteTime": {
     "end_time": "2021-02-13T11:15:39.101203Z",
     "start_time": "2021-02-13T11:15:39.095232Z"
    }
   },
   "source": [
    "## Genere"
   ]
  },
  {
   "cell_type": "code",
   "execution_count": 35,
   "metadata": {
    "ExecuteTime": {
     "end_time": "2021-02-15T09:15:25.689010Z",
     "start_time": "2021-02-15T09:15:25.512239Z"
    }
   },
   "outputs": [
    {
     "data": {
      "image/png": "[encoded data removed]",
      "text/plain": [
       "<Figure size 432x288 with 1 Axes>"
      ]
     },
     "metadata": {
      "needs_background": "light"
     },
     "output_type": "display_data"
    }
   ],
   "source": [
    "sns.countplot(normoacusici['GENERE'])\n",
    "plt.savefig('figure/hist_genere_normoacusici.png')"
   ]
  },
  {
   "cell_type": "markdown",
   "metadata": {},
   "source": [
    "## Eta'"
   ]
  },
  {
   "cell_type": "code",
   "execution_count": 8,
   "metadata": {
    "ExecuteTime": {
     "end_time": "2021-02-15T09:13:51.864304Z",
     "start_time": "2021-02-15T09:13:51.860063Z"
    }
   },
   "outputs": [
    {
     "data": {
      "text/plain": [
       "(8.962962962962964, 2.045437225405048)"
      ]
     },
     "execution_count": 8,
     "metadata": {},
     "output_type": "execute_result"
    }
   ],
   "source": [
    "# media & SD Eta'\n",
    "np.mean(normoacusici['ETA']), np.std(normoacusici['ETA'])"
   ]
  },
  {
   "cell_type": "code",
   "execution_count": 36,
   "metadata": {
    "ExecuteTime": {
     "end_time": "2021-02-15T09:15:58.861522Z",
     "start_time": "2021-02-15T09:15:58.634343Z"
    }
   },
   "outputs": [
    {
     "data": {
      "image/png": "[encoded data removed]",
      "text/plain": [
       "<Figure size 432x288 with 1 Axes>"
      ]
     },
     "metadata": {
      "needs_background": "light"
     },
     "output_type": "display_data"
    }
   ],
   "source": [
    "sns.distplot(normoacusici['ETA'])\n",
    "plt.savefig('figure/hist_eta_normoacusici.png')"
   ]
  },
  {
   "cell_type": "markdown",
   "metadata": {},
   "source": [
    "## PTA media"
   ]
  },
  {
   "cell_type": "code",
   "execution_count": 10,
   "metadata": {
    "ExecuteTime": {
     "end_time": "2021-02-15T09:13:52.062556Z",
     "start_time": "2021-02-15T09:13:52.058096Z"
    }
   },
   "outputs": [
    {
     "data": {
      "text/plain": [
       "(11.217592592592593, 1.6800134315878252)"
      ]
     },
     "execution_count": 10,
     "metadata": {},
     "output_type": "execute_result"
    }
   ],
   "source": [
    "# media  & SD PTA media\n",
    "np.mean(normoacusici['PTA media']), np.std(normoacusici['PTA media'])"
   ]
  },
  {
   "cell_type": "code",
   "execution_count": 37,
   "metadata": {
    "ExecuteTime": {
     "end_time": "2021-02-15T09:16:08.407633Z",
     "start_time": "2021-02-15T09:16:08.182088Z"
    }
   },
   "outputs": [
    {
     "data": {
      "image/png": "[encoded data removed]",
      "text/plain": [
       "<Figure size 432x288 with 1 Axes>"
      ]
     },
     "metadata": {
      "needs_background": "light"
     },
     "output_type": "display_data"
    }
   ],
   "source": [
    "sns.distplot(normoacusici['PTA media'])\n",
    "plt.savefig('figure/hist_PTAmedia_normoacusici.png')"
   ]
  },
  {
   "cell_type": "markdown",
   "metadata": {},
   "source": [
    "## SRTq"
   ]
  },
  {
   "cell_type": "code",
   "execution_count": 12,
   "metadata": {
    "ExecuteTime": {
     "end_time": "2021-02-15T09:13:52.239667Z",
     "start_time": "2021-02-15T09:13:52.235072Z"
    }
   },
   "outputs": [
    {
     "data": {
      "text/plain": [
       "(26.97407407407407, 3.992640692350958)"
      ]
     },
     "execution_count": 12,
     "metadata": {},
     "output_type": "execute_result"
    }
   ],
   "source": [
    "# media & SD SRTq\n",
    "np.mean(normoacusici['SRTq']), np.std(normoacusici['SRTq'])"
   ]
  },
  {
   "cell_type": "code",
   "execution_count": 38,
   "metadata": {
    "ExecuteTime": {
     "end_time": "2021-02-15T09:16:15.635974Z",
     "start_time": "2021-02-15T09:16:15.420453Z"
    }
   },
   "outputs": [
    {
     "data": {
      "image/png": "[encoded data removed]",
      "text/plain": [
       "<Figure size 432x288 with 1 Axes>"
      ]
     },
     "metadata": {
      "needs_background": "light"
     },
     "output_type": "display_data"
    }
   ],
   "source": [
    "sns.distplot(normoacusici['SRTq'])\n",
    "plt.savefig('figure/hist_SRTq_normoacusici.png')"
   ]
  },
  {
   "cell_type": "markdown",
   "metadata": {},
   "source": [
    "## SRTn"
   ]
  },
  {
   "cell_type": "code",
   "execution_count": 14,
   "metadata": {
    "ExecuteTime": {
     "end_time": "2021-02-15T09:13:52.418568Z",
     "start_time": "2021-02-15T09:13:52.412628Z"
    }
   },
   "outputs": [
    {
     "data": {
      "text/plain": [
       "(-5.707407407407407, 1.5589469204196373)"
      ]
     },
     "execution_count": 14,
     "metadata": {},
     "output_type": "execute_result"
    }
   ],
   "source": [
    "# media & SD SRTn\n",
    "np.mean(normoacusici['SRTn']), np.std(normoacusici['SRTn'])"
   ]
  },
  {
   "cell_type": "code",
   "execution_count": 39,
   "metadata": {
    "ExecuteTime": {
     "end_time": "2021-02-15T09:16:23.006382Z",
     "start_time": "2021-02-15T09:16:22.787267Z"
    }
   },
   "outputs": [
    {
     "data": {
      "image/png": "[encoded data removed]",
      "text/plain": [
       "<Figure size 432x288 with 1 Axes>"
      ]
     },
     "metadata": {
      "needs_background": "light"
     },
     "output_type": "display_data"
    }
   ],
   "source": [
    "sns.distplot(normoacusici['SRTn'])\n",
    "plt.savefig('figure/hist_SRTn_normoacusici.png')"
   ]
  },
  {
   "cell_type": "markdown",
   "metadata": {},
   "source": [
    "## Tabella correlazione tra variabili"
   ]
  },
  {
   "cell_type": "code",
   "execution_count": 16,
   "metadata": {
    "ExecuteTime": {
     "end_time": "2021-02-15T09:13:52.632118Z",
     "start_time": "2021-02-15T09:13:52.619712Z"
    }
   },
   "outputs": [
    {
     "data": {
      "text/html": [
       "<div>\n",
       "<style scoped>\n",
       "    .dataframe tbody tr th:only-of-type {\n",
       "        vertical-align: middle;\n",
       "    }\n",
       "\n",
       "    .dataframe tbody tr th {\n",
       "        vertical-align: top;\n",
       "    }\n",
       "\n",
       "    .dataframe thead th {\n",
       "        text-align: right;\n",
       "    }\n",
       "</style>\n",
       "<table border=\"1\" class=\"dataframe\">\n",
       "  <thead>\n",
       "    <tr style=\"text-align: right;\">\n",
       "      <th></th>\n",
       "      <th>SOGG</th>\n",
       "      <th>ETA</th>\n",
       "      <th>PTA media</th>\n",
       "      <th>SRTq</th>\n",
       "      <th>SRTn</th>\n",
       "    </tr>\n",
       "  </thead>\n",
       "  <tbody>\n",
       "    <tr>\n",
       "      <th>SOGG</th>\n",
       "      <td>1.000000</td>\n",
       "      <td>0.976392</td>\n",
       "      <td>-0.131614</td>\n",
       "      <td>-0.215923</td>\n",
       "      <td>-0.292210</td>\n",
       "    </tr>\n",
       "    <tr>\n",
       "      <th>ETA</th>\n",
       "      <td>0.976392</td>\n",
       "      <td>1.000000</td>\n",
       "      <td>-0.207825</td>\n",
       "      <td>-0.201477</td>\n",
       "      <td>-0.357828</td>\n",
       "    </tr>\n",
       "    <tr>\n",
       "      <th>PTA media</th>\n",
       "      <td>-0.131614</td>\n",
       "      <td>-0.207825</td>\n",
       "      <td>1.000000</td>\n",
       "      <td>0.306322</td>\n",
       "      <td>0.370236</td>\n",
       "    </tr>\n",
       "    <tr>\n",
       "      <th>SRTq</th>\n",
       "      <td>-0.215923</td>\n",
       "      <td>-0.201477</td>\n",
       "      <td>0.306322</td>\n",
       "      <td>1.000000</td>\n",
       "      <td>0.407689</td>\n",
       "    </tr>\n",
       "    <tr>\n",
       "      <th>SRTn</th>\n",
       "      <td>-0.292210</td>\n",
       "      <td>-0.357828</td>\n",
       "      <td>0.370236</td>\n",
       "      <td>0.407689</td>\n",
       "      <td>1.000000</td>\n",
       "    </tr>\n",
       "  </tbody>\n",
       "</table>\n",
       "</div>"
      ],
      "text/plain": [
       "               SOGG       ETA  PTA media      SRTq      SRTn\n",
       "SOGG       1.000000  0.976392  -0.131614 -0.215923 -0.292210\n",
       "ETA        0.976392  1.000000  -0.207825 -0.201477 -0.357828\n",
       "PTA media -0.131614 -0.207825   1.000000  0.306322  0.370236\n",
       "SRTq      -0.215923 -0.201477   0.306322  1.000000  0.407689\n",
       "SRTn      -0.292210 -0.357828   0.370236  0.407689  1.000000"
      ]
     },
     "execution_count": 16,
     "metadata": {},
     "output_type": "execute_result"
    }
   ],
   "source": [
    "normoacusici.corr()"
   ]
  },
  {
   "cell_type": "markdown",
   "metadata": {},
   "source": [
    "# Pazienti ipoacusici"
   ]
  },
  {
   "cell_type": "code",
   "execution_count": 17,
   "metadata": {
    "ExecuteTime": {
     "end_time": "2021-02-15T09:13:52.649372Z",
     "start_time": "2021-02-15T09:13:52.633450Z"
    }
   },
   "outputs": [
    {
     "data": {
      "text/html": [
       "<div>\n",
       "<style scoped>\n",
       "    .dataframe tbody tr th:only-of-type {\n",
       "        vertical-align: middle;\n",
       "    }\n",
       "\n",
       "    .dataframe tbody tr th {\n",
       "        vertical-align: top;\n",
       "    }\n",
       "\n",
       "    .dataframe thead th {\n",
       "        text-align: right;\n",
       "    }\n",
       "</style>\n",
       "<table border=\"1\" class=\"dataframe\">\n",
       "  <thead>\n",
       "    <tr style=\"text-align: right;\">\n",
       "      <th></th>\n",
       "      <th>SOGG</th>\n",
       "      <th>GENERE</th>\n",
       "      <th>ETA</th>\n",
       "      <th>PTA patologico</th>\n",
       "      <th>PTA sano</th>\n",
       "      <th>SRTq</th>\n",
       "      <th>SRTn</th>\n",
       "    </tr>\n",
       "  </thead>\n",
       "  <tbody>\n",
       "    <tr>\n",
       "      <th>0</th>\n",
       "      <td>28</td>\n",
       "      <td>M</td>\n",
       "      <td>6</td>\n",
       "      <td>60.00</td>\n",
       "      <td>15.00</td>\n",
       "      <td>33.6</td>\n",
       "      <td>0.2</td>\n",
       "    </tr>\n",
       "    <tr>\n",
       "      <th>1</th>\n",
       "      <td>29</td>\n",
       "      <td>M</td>\n",
       "      <td>6</td>\n",
       "      <td>51.25</td>\n",
       "      <td>12.50</td>\n",
       "      <td>32.1</td>\n",
       "      <td>-2.2</td>\n",
       "    </tr>\n",
       "    <tr>\n",
       "      <th>2</th>\n",
       "      <td>30</td>\n",
       "      <td>M</td>\n",
       "      <td>6</td>\n",
       "      <td>45.00</td>\n",
       "      <td>15.00</td>\n",
       "      <td>31.6</td>\n",
       "      <td>-3.2</td>\n",
       "    </tr>\n",
       "    <tr>\n",
       "      <th>3</th>\n",
       "      <td>31</td>\n",
       "      <td>M</td>\n",
       "      <td>6</td>\n",
       "      <td>105.00</td>\n",
       "      <td>16.35</td>\n",
       "      <td>30.5</td>\n",
       "      <td>1.2</td>\n",
       "    </tr>\n",
       "    <tr>\n",
       "      <th>4</th>\n",
       "      <td>32</td>\n",
       "      <td>F</td>\n",
       "      <td>6</td>\n",
       "      <td>77.50</td>\n",
       "      <td>20.00</td>\n",
       "      <td>30.1</td>\n",
       "      <td>-2.2</td>\n",
       "    </tr>\n",
       "    <tr>\n",
       "      <th>5</th>\n",
       "      <td>33</td>\n",
       "      <td>M</td>\n",
       "      <td>6</td>\n",
       "      <td>80.00</td>\n",
       "      <td>15.00</td>\n",
       "      <td>33.2</td>\n",
       "      <td>0.1</td>\n",
       "    </tr>\n",
       "    <tr>\n",
       "      <th>6</th>\n",
       "      <td>34</td>\n",
       "      <td>M</td>\n",
       "      <td>6</td>\n",
       "      <td>120.00</td>\n",
       "      <td>20.00</td>\n",
       "      <td>33.5</td>\n",
       "      <td>1.5</td>\n",
       "    </tr>\n",
       "    <tr>\n",
       "      <th>7</th>\n",
       "      <td>35</td>\n",
       "      <td>M</td>\n",
       "      <td>6</td>\n",
       "      <td>66.25</td>\n",
       "      <td>16.25</td>\n",
       "      <td>32.7</td>\n",
       "      <td>0.3</td>\n",
       "    </tr>\n",
       "    <tr>\n",
       "      <th>8</th>\n",
       "      <td>36</td>\n",
       "      <td>F</td>\n",
       "      <td>6</td>\n",
       "      <td>112.50</td>\n",
       "      <td>20.00</td>\n",
       "      <td>30.9</td>\n",
       "      <td>1.1</td>\n",
       "    </tr>\n",
       "    <tr>\n",
       "      <th>9</th>\n",
       "      <td>37</td>\n",
       "      <td>M</td>\n",
       "      <td>7</td>\n",
       "      <td>68.75</td>\n",
       "      <td>15.00</td>\n",
       "      <td>27.9</td>\n",
       "      <td>-2.0</td>\n",
       "    </tr>\n",
       "    <tr>\n",
       "      <th>10</th>\n",
       "      <td>38</td>\n",
       "      <td>M</td>\n",
       "      <td>8</td>\n",
       "      <td>120.00</td>\n",
       "      <td>10.00</td>\n",
       "      <td>25.2</td>\n",
       "      <td>-3.8</td>\n",
       "    </tr>\n",
       "    <tr>\n",
       "      <th>11</th>\n",
       "      <td>39</td>\n",
       "      <td>M</td>\n",
       "      <td>8</td>\n",
       "      <td>55.00</td>\n",
       "      <td>12.50</td>\n",
       "      <td>31.4</td>\n",
       "      <td>-3.1</td>\n",
       "    </tr>\n",
       "    <tr>\n",
       "      <th>12</th>\n",
       "      <td>40</td>\n",
       "      <td>M</td>\n",
       "      <td>9</td>\n",
       "      <td>33.75</td>\n",
       "      <td>10.00</td>\n",
       "      <td>30.1</td>\n",
       "      <td>-1.7</td>\n",
       "    </tr>\n",
       "    <tr>\n",
       "      <th>13</th>\n",
       "      <td>41</td>\n",
       "      <td>F</td>\n",
       "      <td>9</td>\n",
       "      <td>60.00</td>\n",
       "      <td>11.25</td>\n",
       "      <td>30.2</td>\n",
       "      <td>-4.0</td>\n",
       "    </tr>\n",
       "    <tr>\n",
       "      <th>14</th>\n",
       "      <td>42</td>\n",
       "      <td>M</td>\n",
       "      <td>9</td>\n",
       "      <td>125.00</td>\n",
       "      <td>10.00</td>\n",
       "      <td>26.5</td>\n",
       "      <td>-6.3</td>\n",
       "    </tr>\n",
       "    <tr>\n",
       "      <th>15</th>\n",
       "      <td>43</td>\n",
       "      <td>M</td>\n",
       "      <td>10</td>\n",
       "      <td>68.75</td>\n",
       "      <td>20.00</td>\n",
       "      <td>35.1</td>\n",
       "      <td>-2.0</td>\n",
       "    </tr>\n",
       "    <tr>\n",
       "      <th>16</th>\n",
       "      <td>44</td>\n",
       "      <td>F</td>\n",
       "      <td>10</td>\n",
       "      <td>96.25</td>\n",
       "      <td>11.25</td>\n",
       "      <td>28.8</td>\n",
       "      <td>-6.3</td>\n",
       "    </tr>\n",
       "    <tr>\n",
       "      <th>17</th>\n",
       "      <td>45</td>\n",
       "      <td>M</td>\n",
       "      <td>10</td>\n",
       "      <td>120.00</td>\n",
       "      <td>11.25</td>\n",
       "      <td>26.4</td>\n",
       "      <td>-5.7</td>\n",
       "    </tr>\n",
       "    <tr>\n",
       "      <th>18</th>\n",
       "      <td>46</td>\n",
       "      <td>F</td>\n",
       "      <td>10</td>\n",
       "      <td>73.75</td>\n",
       "      <td>23.75</td>\n",
       "      <td>38.8</td>\n",
       "      <td>0.3</td>\n",
       "    </tr>\n",
       "    <tr>\n",
       "      <th>19</th>\n",
       "      <td>47</td>\n",
       "      <td>M</td>\n",
       "      <td>10</td>\n",
       "      <td>115.00</td>\n",
       "      <td>12.50</td>\n",
       "      <td>26.0</td>\n",
       "      <td>-6.9</td>\n",
       "    </tr>\n",
       "    <tr>\n",
       "      <th>20</th>\n",
       "      <td>48</td>\n",
       "      <td>F</td>\n",
       "      <td>11</td>\n",
       "      <td>118.75</td>\n",
       "      <td>13.75</td>\n",
       "      <td>28.2</td>\n",
       "      <td>-3.6</td>\n",
       "    </tr>\n",
       "    <tr>\n",
       "      <th>21</th>\n",
       "      <td>49</td>\n",
       "      <td>M</td>\n",
       "      <td>11</td>\n",
       "      <td>60.00</td>\n",
       "      <td>10.00</td>\n",
       "      <td>32.7</td>\n",
       "      <td>1.0</td>\n",
       "    </tr>\n",
       "    <tr>\n",
       "      <th>22</th>\n",
       "      <td>50</td>\n",
       "      <td>F</td>\n",
       "      <td>12</td>\n",
       "      <td>47.50</td>\n",
       "      <td>10.00</td>\n",
       "      <td>32.6</td>\n",
       "      <td>-3.0</td>\n",
       "    </tr>\n",
       "    <tr>\n",
       "      <th>23</th>\n",
       "      <td>51</td>\n",
       "      <td>M</td>\n",
       "      <td>13</td>\n",
       "      <td>81.25</td>\n",
       "      <td>12.50</td>\n",
       "      <td>33.9</td>\n",
       "      <td>-0.7</td>\n",
       "    </tr>\n",
       "  </tbody>\n",
       "</table>\n",
       "</div>"
      ],
      "text/plain": [
       "    SOGG GENERE  ETA  PTA patologico  PTA sano  SRTq  SRTn\n",
       "0     28      M    6           60.00     15.00  33.6   0.2\n",
       "1     29      M    6           51.25     12.50  32.1  -2.2\n",
       "2     30      M    6           45.00     15.00  31.6  -3.2\n",
       "3     31      M    6          105.00     16.35  30.5   1.2\n",
       "4     32      F    6           77.50     20.00  30.1  -2.2\n",
       "5     33      M    6           80.00     15.00  33.2   0.1\n",
       "6     34      M    6          120.00     20.00  33.5   1.5\n",
       "7     35      M    6           66.25     16.25  32.7   0.3\n",
       "8     36      F    6          112.50     20.00  30.9   1.1\n",
       "9     37      M    7           68.75     15.00  27.9  -2.0\n",
       "10    38      M    8          120.00     10.00  25.2  -3.8\n",
       "11    39      M    8           55.00     12.50  31.4  -3.1\n",
       "12    40      M    9           33.75     10.00  30.1  -1.7\n",
       "13    41      F    9           60.00     11.25  30.2  -4.0\n",
       "14    42      M    9          125.00     10.00  26.5  -6.3\n",
       "15    43      M   10           68.75     20.00  35.1  -2.0\n",
       "16    44      F   10           96.25     11.25  28.8  -6.3\n",
       "17    45      M   10          120.00     11.25  26.4  -5.7\n",
       "18    46      F   10           73.75     23.75  38.8   0.3\n",
       "19    47      M   10          115.00     12.50  26.0  -6.9\n",
       "20    48      F   11          118.75     13.75  28.2  -3.6\n",
       "21    49      M   11           60.00     10.00  32.7   1.0\n",
       "22    50      F   12           47.50     10.00  32.6  -3.0\n",
       "23    51      M   13           81.25     12.50  33.9  -0.7"
      ]
     },
     "execution_count": 17,
     "metadata": {},
     "output_type": "execute_result"
    }
   ],
   "source": [
    "ipoacusici"
   ]
  },
  {
   "cell_type": "code",
   "execution_count": 18,
   "metadata": {
    "ExecuteTime": {
     "end_time": "2021-02-15T09:13:52.656934Z",
     "start_time": "2021-02-15T09:13:52.651869Z"
    }
   },
   "outputs": [
    {
     "data": {
      "text/plain": [
       "Index(['SOGG', 'GENERE', 'ETA', 'PTA patologico', 'PTA sano', 'SRTq', 'SRTn'], dtype='object')"
      ]
     },
     "execution_count": 18,
     "metadata": {},
     "output_type": "execute_result"
    }
   ],
   "source": [
    "ipoacusici.keys()"
   ]
  },
  {
   "cell_type": "markdown",
   "metadata": {},
   "source": [
    "## GENERE"
   ]
  },
  {
   "cell_type": "code",
   "execution_count": 40,
   "metadata": {
    "ExecuteTime": {
     "end_time": "2021-02-15T09:16:36.194518Z",
     "start_time": "2021-02-15T09:16:36.017589Z"
    }
   },
   "outputs": [
    {
     "data": {
      "image/png": "[encoded data removed]",
      "text/plain": [
       "<Figure size 432x288 with 1 Axes>"
      ]
     },
     "metadata": {
      "needs_background": "light"
     },
     "output_type": "display_data"
    }
   ],
   "source": [
    "sns.countplot(ipoacusici['GENERE'])\n",
    "plt.savefig('figure/hist_genere_ipoacusici.png')"
   ]
  },
  {
   "cell_type": "markdown",
   "metadata": {},
   "source": [
    "## ETA'"
   ]
  },
  {
   "cell_type": "code",
   "execution_count": 20,
   "metadata": {
    "ExecuteTime": {
     "end_time": "2021-02-15T09:13:52.871279Z",
     "start_time": "2021-02-15T09:13:52.865668Z"
    }
   },
   "outputs": [
    {
     "data": {
      "text/plain": [
       "(8.375, 2.194927865177654)"
      ]
     },
     "execution_count": 20,
     "metadata": {},
     "output_type": "execute_result"
    }
   ],
   "source": [
    "# media & SD Eta'\n",
    "np.mean(ipoacusici['ETA']), np.std(ipoacusici['ETA'])"
   ]
  },
  {
   "cell_type": "code",
   "execution_count": 41,
   "metadata": {
    "ExecuteTime": {
     "end_time": "2021-02-15T09:16:51.780261Z",
     "start_time": "2021-02-15T09:16:51.510934Z"
    }
   },
   "outputs": [
    {
     "data": {
      "image/png": "[encoded data removed]",
      "text/plain": [
       "<Figure size 432x288 with 1 Axes>"
      ]
     },
     "metadata": {
      "needs_background": "light"
     },
     "output_type": "display_data"
    }
   ],
   "source": [
    "sns.distplot(ipoacusici['ETA'])\n",
    "plt.savefig('figure/hist_eta_ipoacusici.png')"
   ]
  },
  {
   "cell_type": "markdown",
   "metadata": {},
   "source": [
    "## PTA patologico"
   ]
  },
  {
   "cell_type": "code",
   "execution_count": 22,
   "metadata": {
    "ExecuteTime": {
     "end_time": "2021-02-15T09:13:53.122581Z",
     "start_time": "2021-02-15T09:13:53.116565Z"
    }
   },
   "outputs": [
    {
     "data": {
      "text/plain": [
       "(81.71875, 28.126880724154844)"
      ]
     },
     "execution_count": 22,
     "metadata": {},
     "output_type": "execute_result"
    }
   ],
   "source": [
    "# media & SD PTA patologico\n",
    "np.mean(ipoacusici['PTA patologico']), np.std(ipoacusici['PTA patologico'])"
   ]
  },
  {
   "cell_type": "code",
   "execution_count": 42,
   "metadata": {
    "ExecuteTime": {
     "end_time": "2021-02-15T09:16:58.395519Z",
     "start_time": "2021-02-15T09:16:58.172977Z"
    }
   },
   "outputs": [
    {
     "data": {
      "image/png": "[encoded data removed]",
      "text/plain": [
       "<Figure size 432x288 with 1 Axes>"
      ]
     },
     "metadata": {
      "needs_background": "light"
     },
     "output_type": "display_data"
    }
   ],
   "source": [
    "sns.distplot(ipoacusici['PTA patologico'])\n",
    "plt.savefig('figure/hist_PTApat_ipoacusici.png')"
   ]
  },
  {
   "cell_type": "markdown",
   "metadata": {
    "ExecuteTime": {
     "end_time": "2021-02-13T10:42:55.143834Z",
     "start_time": "2021-02-13T10:42:55.136751Z"
    }
   },
   "source": [
    "## PTA sano"
   ]
  },
  {
   "cell_type": "code",
   "execution_count": 24,
   "metadata": {
    "ExecuteTime": {
     "end_time": "2021-02-15T09:13:53.340424Z",
     "start_time": "2021-02-15T09:13:53.336315Z"
    }
   },
   "outputs": [
    {
     "data": {
      "text/plain": [
       "(14.327083333333334, 3.8881759639179)"
      ]
     },
     "execution_count": 24,
     "metadata": {},
     "output_type": "execute_result"
    }
   ],
   "source": [
    "# media & SD PTA sano\n",
    "np.mean(ipoacusici['PTA sano']), np.std(ipoacusici['PTA sano'])"
   ]
  },
  {
   "cell_type": "code",
   "execution_count": 43,
   "metadata": {
    "ExecuteTime": {
     "end_time": "2021-02-15T09:17:05.189929Z",
     "start_time": "2021-02-15T09:17:04.970458Z"
    }
   },
   "outputs": [
    {
     "data": {
      "image/png": "[encoded data removed]",
      "text/plain": [
       "<Figure size 432x288 with 1 Axes>"
      ]
     },
     "metadata": {
      "needs_background": "light"
     },
     "output_type": "display_data"
    }
   ],
   "source": [
    "sns.distplot(ipoacusici['PTA sano'])\n",
    "plt.savefig('figure/hist_PTAsano_ipoacusici.png')"
   ]
  },
  {
   "cell_type": "markdown",
   "metadata": {
    "ExecuteTime": {
     "end_time": "2021-02-13T10:42:58.667420Z",
     "start_time": "2021-02-13T10:42:58.661238Z"
    }
   },
   "source": [
    "## SRTq"
   ]
  },
  {
   "cell_type": "code",
   "execution_count": 26,
   "metadata": {
    "ExecuteTime": {
     "end_time": "2021-02-15T09:13:53.509589Z",
     "start_time": "2021-02-15T09:13:53.505270Z"
    }
   },
   "outputs": [
    {
     "data": {
      "text/plain": [
       "(30.916666666666668, 3.15352536413174)"
      ]
     },
     "execution_count": 26,
     "metadata": {},
     "output_type": "execute_result"
    }
   ],
   "source": [
    "# media & SD SRTq\n",
    "np.mean(ipoacusici['SRTq']), np.std(ipoacusici['SRTq'])"
   ]
  },
  {
   "cell_type": "code",
   "execution_count": 44,
   "metadata": {
    "ExecuteTime": {
     "end_time": "2021-02-15T09:17:10.891419Z",
     "start_time": "2021-02-15T09:17:10.674665Z"
    }
   },
   "outputs": [
    {
     "data": {
      "image/png": "[encoded data removed]",
      "text/plain": [
       "<Figure size 432x288 with 1 Axes>"
      ]
     },
     "metadata": {
      "needs_background": "light"
     },
     "output_type": "display_data"
    }
   ],
   "source": [
    "sns.distplot(ipoacusici['SRTq'])\n",
    "plt.savefig('figure/hist_SRTq_ipoacusici.png')"
   ]
  },
  {
   "cell_type": "markdown",
   "metadata": {},
   "source": [
    "## SRTn"
   ]
  },
  {
   "cell_type": "code",
   "execution_count": 28,
   "metadata": {
    "ExecuteTime": {
     "end_time": "2021-02-15T09:13:53.700254Z",
     "start_time": "2021-02-15T09:13:53.696888Z"
    }
   },
   "outputs": [
    {
     "data": {
      "text/plain": [
       "(-2.1250000000000004, 2.50453754879685)"
      ]
     },
     "execution_count": 28,
     "metadata": {},
     "output_type": "execute_result"
    }
   ],
   "source": [
    "# media & SD SRTn\n",
    "np.mean(ipoacusici['SRTn']), np.std(ipoacusici['SRTn'])"
   ]
  },
  {
   "cell_type": "code",
   "execution_count": 45,
   "metadata": {
    "ExecuteTime": {
     "end_time": "2021-02-15T09:17:16.435671Z",
     "start_time": "2021-02-15T09:17:16.208989Z"
    }
   },
   "outputs": [
    {
     "data": {
      "image/png": "[encoded data removed]",
      "text/plain": [
       "<Figure size 432x288 with 1 Axes>"
      ]
     },
     "metadata": {
      "needs_background": "light"
     },
     "output_type": "display_data"
    }
   ],
   "source": [
    "sns.distplot(ipoacusici['SRTn'])\n",
    "plt.savefig('figure/hist_SRTn_ipoacusici.png')"
   ]
  },
  {
   "cell_type": "markdown",
   "metadata": {},
   "source": [
    "## Tabella correlazione tra variabili"
   ]
  },
  {
   "cell_type": "code",
   "execution_count": 30,
   "metadata": {
    "ExecuteTime": {
     "end_time": "2021-02-15T09:13:53.888037Z",
     "start_time": "2021-02-15T09:13:53.878086Z"
    }
   },
   "outputs": [
    {
     "data": {
      "text/html": [
       "<div>\n",
       "<style scoped>\n",
       "    .dataframe tbody tr th:only-of-type {\n",
       "        vertical-align: middle;\n",
       "    }\n",
       "\n",
       "    .dataframe tbody tr th {\n",
       "        vertical-align: top;\n",
       "    }\n",
       "\n",
       "    .dataframe thead th {\n",
       "        text-align: right;\n",
       "    }\n",
       "</style>\n",
       "<table border=\"1\" class=\"dataframe\">\n",
       "  <thead>\n",
       "    <tr style=\"text-align: right;\">\n",
       "      <th></th>\n",
       "      <th>SOGG</th>\n",
       "      <th>ETA</th>\n",
       "      <th>PTA patologico</th>\n",
       "      <th>PTA sano</th>\n",
       "      <th>SRTq</th>\n",
       "      <th>SRTn</th>\n",
       "    </tr>\n",
       "  </thead>\n",
       "  <tbody>\n",
       "    <tr>\n",
       "      <th>SOGG</th>\n",
       "      <td>1.000000</td>\n",
       "      <td>0.961199</td>\n",
       "      <td>0.155555</td>\n",
       "      <td>-0.319644</td>\n",
       "      <td>-0.063561</td>\n",
       "      <td>-0.346323</td>\n",
       "    </tr>\n",
       "    <tr>\n",
       "      <th>ETA</th>\n",
       "      <td>0.961199</td>\n",
       "      <td>1.000000</td>\n",
       "      <td>0.040178</td>\n",
       "      <td>-0.398608</td>\n",
       "      <td>-0.017758</td>\n",
       "      <td>-0.371206</td>\n",
       "    </tr>\n",
       "    <tr>\n",
       "      <th>PTA patologico</th>\n",
       "      <td>0.155555</td>\n",
       "      <td>0.040178</td>\n",
       "      <td>1.000000</td>\n",
       "      <td>0.080584</td>\n",
       "      <td>-0.502901</td>\n",
       "      <td>-0.239531</td>\n",
       "    </tr>\n",
       "    <tr>\n",
       "      <th>PTA sano</th>\n",
       "      <td>-0.319644</td>\n",
       "      <td>-0.398608</td>\n",
       "      <td>0.080584</td>\n",
       "      <td>1.000000</td>\n",
       "      <td>0.575496</td>\n",
       "      <td>0.547897</td>\n",
       "    </tr>\n",
       "    <tr>\n",
       "      <th>SRTq</th>\n",
       "      <td>-0.063561</td>\n",
       "      <td>-0.017758</td>\n",
       "      <td>-0.502901</td>\n",
       "      <td>0.575496</td>\n",
       "      <td>1.000000</td>\n",
       "      <td>0.693361</td>\n",
       "    </tr>\n",
       "    <tr>\n",
       "      <th>SRTn</th>\n",
       "      <td>-0.346323</td>\n",
       "      <td>-0.371206</td>\n",
       "      <td>-0.239531</td>\n",
       "      <td>0.547897</td>\n",
       "      <td>0.693361</td>\n",
       "      <td>1.000000</td>\n",
       "    </tr>\n",
       "  </tbody>\n",
       "</table>\n",
       "</div>"
      ],
      "text/plain": [
       "                    SOGG       ETA  PTA patologico  PTA sano      SRTq  \\\n",
       "SOGG            1.000000  0.961199        0.155555 -0.319644 -0.063561   \n",
       "ETA             0.961199  1.000000        0.040178 -0.398608 -0.017758   \n",
       "PTA patologico  0.155555  0.040178        1.000000  0.080584 -0.502901   \n",
       "PTA sano       -0.319644 -0.398608        0.080584  1.000000  0.575496   \n",
       "SRTq           -0.063561 -0.017758       -0.502901  0.575496  1.000000   \n",
       "SRTn           -0.346323 -0.371206       -0.239531  0.547897  0.693361   \n",
       "\n",
       "                    SRTn  \n",
       "SOGG           -0.346323  \n",
       "ETA            -0.371206  \n",
       "PTA patologico -0.239531  \n",
       "PTA sano        0.547897  \n",
       "SRTq            0.693361  \n",
       "SRTn            1.000000  "
      ]
     },
     "execution_count": 30,
     "metadata": {},
     "output_type": "execute_result"
    }
   ],
   "source": [
    "ipoacusici.corr()"
   ]
  },
  {
   "cell_type": "code",
   "execution_count": null,
   "metadata": {
    "ExecuteTime": {
     "end_time": "2021-02-15T09:09:24.840997Z",
     "start_time": "2021-02-15T09:09:24.814610Z"
    }
   },
   "outputs": [],
   "source": []
  },
  {
   "cell_type": "code",
   "execution_count": null,
   "metadata": {
    "ExecuteTime": {
     "end_time": "2021-02-15T09:13:53.995851Z",
     "start_time": "2021-02-15T09:13:53.889317Z"
    }
   },
   "outputs": [],
   "source": [
    "\n"
   ]
  },
  {
   "cell_type": "code",
   "execution_count": null,
   "metadata": {},
   "outputs": [],
   "source": []
  }
 ],
 "metadata": {
  "kernelspec": {
   "display_name": "patterns",
   "language": "python",
   "name": "patterns"
  },
  "language_info": {
   "codemirror_mode": {
    "name": "ipython",
    "version": 3
   },
   "file_extension": ".py",
   "mimetype": "text/x-python",
   "name": "python",
   "nbconvert_exporter": "python",
   "pygments_lexer": "ipython3",
   "version": "3.6.10"
  },
  "latex_envs": {
   "LaTeX_envs_menu_present": true,
   "autoclose": false,
   "autocomplete": true,
   "bibliofile": "biblio.bib",
   "cite_by": "apalike",
   "current_citInitial": 1,
   "eqLabelWithNumbers": true,
   "eqNumInitial": 1,
   "hotkeys": {
    "equation": "Ctrl-E",
    "itemize": "Ctrl-I"
   },
   "labels_anchors": false,
   "latex_user_defs": false,
   "report_style_numbering": false,
   "user_envs_cfg": false
  },
  "toc": {
   "nav_menu": {},
   "number_sections": true,
   "sideBar": true,
   "skip_h1_title": false,
   "title_cell": "Table of Contents",
   "title_sidebar": "Contents",
   "toc_cell": false,
   "toc_position": {},
   "toc_section_display": true,
   "toc_window_display": false
  },
  "varInspector": {
   "cols": {
    "lenName": 16,
    "lenType": 16,
    "lenVar": 40
   },
   "kernels_config": {
    "python": {
     "delete_cmd_postfix": "",
     "delete_cmd_prefix": "del ",
     "library": "var_list.py",
     "varRefreshCmd": "print(var_dic_list())"
    },
    "r": {
     "delete_cmd_postfix": ") ",
     "delete_cmd_prefix": "rm(",
     "library": "var_list.r",
     "varRefreshCmd": "cat(var_dic_list()) "
    }
   },
   "types_to_exclude": [
    "module",
    "function",
    "builtin_function_or_method",
    "instance",
    "_Feature"
   ],
   "window_display": false
  }
 },
 "nbformat": 4,
 "nbformat_minor": 4
}
